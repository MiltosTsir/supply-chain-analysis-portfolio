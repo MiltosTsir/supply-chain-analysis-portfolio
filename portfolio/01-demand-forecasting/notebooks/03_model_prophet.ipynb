{
 "cells": [
  {
   "cell_type": "markdown",
   "metadata": {},
   "source": [
    "# Prophet Forecasting Model\n",
    "\n",
    "This notebook implements a Facebook Prophet model on the `mock_kaggle.csv` dataset to generate demand forecasts."
   ]
  },
  {
   "cell_type": "code",
   "execution_count": null,
   "metadata": {},
   "outputs": [],
   "source": [
    "# --- Install and imports ---\n",
    "!pip -q install prophet\n",
    "\n",
    "import pandas as pd\n",
    "import matplotlib.pyplot as plt\n",
    "from prophet import Prophet\n",
    "from sklearn.metrics import mean_absolute_error, mean_squared_error\n",
    "import numpy as np\n",
    "\n",
    "# --- Load data ---\n",
    "RAW_URL = \"https://raw.githubusercontent.com/MiltosTsir/supply-chain-analysis-portfolio/main/portfolio/01-demand-forecasting/data/raw/mock_kaggle.csv\"\n",
    "df = pd.read_csv(RAW_URL, parse_dates=[\"data\"])\n",
    "df = df.sort_values(\"data\").reset_index(drop=True)\n",
    "\n",
    "# Prophet requires columns: ds (date), y (target)\n",
    "prophet_df = df.rename(columns={\"data\":\"ds\", \"venda\":\"y\"})\n",
    "prophet_df = prophet_df[[\"ds\", \"y\"]]\n",
    "prophet_df.head()"
   ]
  },
  {
   "cell_type": "code",
   "execution_count": null,
   "metadata": {},
   "outputs": [],
   "source": [
    "# --- Train/Test split ---\n",
    "horizon = 60 if len(prophet_df) > 120 else max(1, len(prophet_df)//5)\n",
    "train = prophet_df.iloc[:-horizon]\n",
    "test = prophet_df.iloc[-horizon:]\n",
    "print(\"Train size:\", len(train), \" Test size:\", len(test))"
   ]
  },
  {
   "cell_type": "code",
   "execution_count": null,
   "metadata": {},
   "outputs": [],
   "source": [
    "# --- Fit Prophet model ---\n",
    "model = Prophet(daily_seasonality=True, yearly_seasonality=True)\n",
    "model.fit(train)\n",
    "\n",
    "# --- Forecast ---\n",
    "future = model.make_future_dataframe(periods=horizon)\n",
    "forecast = model.predict(future)\n",
    "\n",
    "fig1 = model.plot(forecast)\n",
    "plt.title(\"Prophet Forecast\")\n",
    "plt.show()\n",
    "\n",
    "fig2 = model.plot_components(forecast)\n",
    "plt.show()"
   ]
  },
  {
   "cell_type": "code",
   "execution_count": null,
   "metadata": {},
   "outputs": [],
   "source": [
    "# --- Evaluation ---\n",
    "pred = forecast.set_index(\"ds\").loc[test[\"ds\"]][\"yhat\"]\n",
    "mae = mean_absolute_error(test[\"y\"], pred)\n",
    "rmse = np.sqrt(mean_squared_error(test[\"y\"], pred))\n",
    "\n",
    "print(f\"MAE: {mae:.2f}\")\n",
    "print(f\"RMSE: {rmse:.2f}\")"
   ]
  }
 ],
 "metadata": {
  "kernelspec": {
   "display_name": "Python 3",
   "language": "python",
   "name": "python3"
  },
  "language_info": {
   "name": "python",
   "version": "3.9"
  }
 },
 "nbformat": 4,
 "nbformat_minor": 2
}
