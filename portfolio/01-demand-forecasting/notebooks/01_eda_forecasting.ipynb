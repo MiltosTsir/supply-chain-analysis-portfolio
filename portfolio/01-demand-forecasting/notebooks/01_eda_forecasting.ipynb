{
  "nbformat": 4,
  "nbformat_minor": 0,
  "metadata": {
    "colab": {
      "provenance": [],
      "authorship_tag": "ABX9TyPv4rfzzUl9udiVM4BX70CU",
      "include_colab_link": true
    },
    "kernelspec": {
      "name": "python3",
      "display_name": "Python 3"
    },
    "language_info": {
      "name": "python"
    }
  },
  "cells": [
    {
      "cell_type": "markdown",
      "metadata": {
        "id": "view-in-github",
        "colab_type": "text"
      },
      "source": [
        "<a href=\"https://colab.research.google.com/github/MiltosTsir/supply-chain-analysis-portfolio/blob/main/portfolio/01-demand-forecasting/notebooks/01_eda_forecasting.ipynb\" target=\"_parent\"><img src=\"https://colab.research.google.com/assets/colab-badge.svg\" alt=\"Open In Colab\"/></a>"
      ]
    },
    {
      "cell_type": "code",
      "execution_count": null,
      "metadata": {
        "id": "vYLjVzotqa-a"
      },
      "outputs": [],
      "source": [
        "# --- Setup (install + imports) ---\n",
        "!pip -q install statsmodels\n",
        "\n",
        "import pandas as pd\n",
        "import numpy as np\n",
        "import matplotlib.pyplot as plt\n",
        "from statsmodels.tsa.seasonal import seasonal_decompose\n",
        "\n",
        "pd.set_option(\"display.max_columns\", None)\n"
      ]
    },
    {
      "cell_type": "code",
      "source": [
        "# --- Load data from GitHub RAW URL ---\n",
        "RAW_URL =  https://raw.githubusercontent.com/MiltosTsir/supply-chain-analysis-portfolio/refs/heads/main/portfolio/01-demand-forecasting/data/raw/mock_kaggle.csv\n",
        "\n",
        "df = pd.read_csv(RAW_URL, parse_dates=[\"date\"])\n",
        "df = df.sort_values(\"date\").reset_index(drop=True)\n",
        "\n",
        "print(\"Shape:\", df.shape)\n",
        "df.head()\n"
      ],
      "metadata": {
        "id": "b2xJJAU6rabm"
      },
      "execution_count": null,
      "outputs": []
    },
    {
      "cell_type": "code",
      "source": [
        "# --- Basic EDA ---\n",
        "display(df.info())\n",
        "display(df.describe(include=\"all\"))\n",
        "\n",
        "# Missing values\n",
        "nulls = df.isna().sum().sort_values(ascending=False)\n",
        "print(\"Missing values:\\n\", nulls[nulls>0])\n"
      ],
      "metadata": {
        "id": "H0voj1atrqwe"
      },
      "execution_count": null,
      "outputs": []
    },
    {
      "cell_type": "code",
      "source": [
        "# --- Sales over time (total) ---\n",
        "daily = df.groupby(\"date\", as_index=True)[\"sales\"].sum()\n",
        "plt.figure(figsize=(12,5))\n",
        "daily.plot()\n",
        "plt.title(\"Total Sales Over Time\")\n",
        "plt.ylabel(\"Units\")\n",
        "plt.xlabel(\"Date\")\n",
        "plt.show()\n",
        "\n",
        "# --- by store ( ---\n",
        "if \"store\" in df.columns:\n",
        "    tmp = df.groupby([\"date\",\"store\"])[\"sales\"].sum().reset_index()\n",
        "    #  top-5 stores\n",
        "    top_stores = (tmp.groupby(\"store\")[\"sales\"].mean().nlargest(5).index)\n",
        "    plt.figure(figsize=(12,5))\n",
        "    for s in top_stores:\n",
        "        series = tmp.loc[tmp[\"store\"]==s].set_index(\"date\")[\"sales\"]\n",
        "        series.resample(\"D\").sum().plot(label=f\"store {s}\")\n",
        "    plt.title(\"Sales by Top Stores\")\n",
        "    plt.legend()\n",
        "    plt.show()\n"
      ],
      "metadata": {
        "id": "_Y8971zsrtpm"
      },
      "execution_count": null,
      "outputs": []
    },
    {
      "cell_type": "code",
      "source": [
        "# daily series with explicit daily frequency\n",
        "ts = daily.asfreq(\"D\").fillna(0)\n",
        "\n",
        "# αν έχεις ημερήσια seasonality, ξεκίνα με period=7 (εβδομαδιαία)\n",
        "result = seasonal_decompose(ts, model=\"additive\", period=7)\n",
        "fig = result.plot()\n",
        "fig.set_size_inches(12, 8)\n",
        "plt.show()\n"
      ],
      "metadata": {
        "id": "vzF6pNCnr76X"
      },
      "execution_count": null,
      "outputs": []
    },
    {
      "cell_type": "code",
      "source": [
        "# --- Train/Test split (τελευταίες 60 μέρες για test) ---\n",
        "horizon = 60 if len(ts) > 120 else max(1, len(ts)//5)\n",
        "train, test = ts.iloc[:-horizon], ts.iloc[-horizon:]\n",
        "\n",
        "# Naive: πρόβλεψη = χθεσινή τιμή\n",
        "naive_forecast = ts.shift(1).iloc[-horizon:]\n",
        "\n",
        "# Moving Average (7-ημερών), shifted ώστε να μην \"κοιτάει\" το μέλλον\n",
        "ma7 = ts.rolling(7).mean().shift(1).iloc[-horizon:]\n",
        "\n",
        "def mape(y_true, y_pred):\n",
        "    y_true, y_pred = np.array(y_true), np.array(y_pred)\n",
        "    denom = np.where(y_true==0, 1, y_true)\n",
        "    return np.mean(np.abs((y_true - y_pred) / denom)) * 100\n",
        "\n",
        "print(f\"Naive MAPE: {mape(test, naive_forecast):.2f}%\")\n",
        "print(f\"MA(7)  MAPE: {mape(test, ma7):.2f}%\")\n",
        "\n",
        "# Plot last 120 days\n",
        "plt.figure(figsize=(12,5))\n",
        "ts.iloc[-120:].plot(label=\"Actual\")\n",
        "naive_forecast.iloc[-120:].plot(label=\"Naive\")\n",
        "ma7.iloc[-120:].plot(label=\"MA(7)\")\n",
        "plt.title(\"Actual vs Baselines (last 120 days)\")\n",
        "plt.legend()\n",
        "plt.show()\n"
      ],
      "metadata": {
        "id": "qE0lcGy3sCbi"
      },
      "execution_count": null,
      "outputs": []
    }
  ]
}