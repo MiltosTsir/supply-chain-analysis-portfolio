{
 "cells": [
  {
   "cell_type": "markdown",
   "metadata": {},
   "source": [
    "# ARIMA Forecasting Model\n",
    "\n",
    "This notebook implements an ARIMA model on the `mock_kaggle.csv` dataset to generate demand forecasts."
   ]
  },
  {
   "cell_type": "code",
   "execution_count": null,
   "metadata": {},
   "outputs": [],
   "source": [
    "# --- Imports ---\n",
    "import pandas as pd\n",
    "import numpy as np\n",
    "import matplotlib.pyplot as plt\n",
    "from statsmodels.tsa.arima.model import ARIMA\n",
    "from sklearn.metrics import mean_absolute_error, mean_squared_error\n",
    "\n",
    "# --- Load data ---\n",
    "RAW_URL = \"https://raw.githubusercontent.com/MiltosTsir/supply-chain-analysis-portfolio/main/portfolio/01-demand-forecasting/data/raw/mock_kaggle.csv\"\n",
    "df = pd.read_csv(RAW_URL, parse_dates=[\"data\"])\n",
    "df = df.sort_values(\"data\").reset_index(drop=True)\n",
    "\n",
    "ts = df.set_index(\"data\")[\"venda\"].asfreq(\"D\").fillna(0)\n",
    "ts.head()"
   ]
  },
  {
   "cell_type": "code",
   "execution_count": null,
   "metadata": {},
   "outputs": [],
   "source": [
    "# --- Train/Test split ---\n",
    "horizon = 60 if len(ts) > 120 else max(1, len(ts) // 5)\n",
    "train, test = ts.iloc[:-horizon], ts.iloc[-horizon:]\n",
    "print(\"Train size:\", len(train), \" Test size:\", len(test))"
   ]
  },
  {
   "cell_type": "code",
   "execution_count": null,
   "metadata": {},
   "outputs": [],
   "source": [
    "# --- Fit ARIMA model ---\n",
    "model = ARIMA(train, order=(5,1,0))  # ARIMA(p,d,q)\n",
    "fit = model.fit()\n",
    "print(fit.summary())"
   ]
  },
  {
   "cell_type": "code",
   "execution_count": null,
   "metadata": {},
   "outputs": [],
   "source": [
    "# --- Forecast ---\n",
    "forecast = fit.forecast(steps=horizon)\n",
    "\n",
    "plt.figure(figsize=(12,5))\n",
    "plt.plot(train.index, train, label=\"Train\")\n",
    "plt.plot(test.index, test, label=\"Test\")\n",
    "plt.plot(test.index, forecast, label=\"ARIMA Forecast\")\n",
    "plt.title(\"ARIMA Forecast vs Actual\")\n",
    "plt.xlabel(\"Date\")\n",
    "plt.ylabel(\"Units Sold\")\n",
    "plt.legend()\n",
    "plt.show()\n",
    "\n",
    "# --- Evaluation ---\n",
    "mae = mean_absolute_error(test, forecast)\n",
    "rmse = np.sqrt(mean_squared_error(test, forecast))\n",
    "print(f\"MAE: {mae:.2f}\")\n",
    "print(f\"RMSE: {rmse:.2f}\")"
   ]
  }
 ],
 "metadata": {
  "kernelspec": {
   "display_name": "Python 3",
   "language": "python",
   "name": "python3"
  },
  "language_info": {
   "name": "python",
   "version": "3.9"
  }
 },
 "nbformat": 4,
 "nbformat_minor": 2
}
